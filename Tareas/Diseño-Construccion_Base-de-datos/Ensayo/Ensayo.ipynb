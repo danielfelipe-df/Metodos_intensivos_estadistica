{
 "cells": [
  {
   "cell_type": "markdown",
   "id": "comfortable-institute",
   "metadata": {},
   "source": [
    "# Diseño e implementación de una base de datos"
   ]
  },
  {
   "cell_type": "markdown",
   "id": "progressive-explanation",
   "metadata": {},
   "source": []
  },
  {
   "cell_type": "code",
   "execution_count": null,
   "id": "scientific-above",
   "metadata": {},
   "outputs": [],
   "source": []
  }
 ],
 "metadata": {
  "kernelspec": {
   "display_name": "MariaDB",
   "language": "SQL",
   "name": "mariadb_kernel"
  },
  "language_info": {
   "file_extension": ".sql",
   "mimetype": "text/plain",
   "name": "SQL"
  }
 },
 "nbformat": 4,
 "nbformat_minor": 5
}
