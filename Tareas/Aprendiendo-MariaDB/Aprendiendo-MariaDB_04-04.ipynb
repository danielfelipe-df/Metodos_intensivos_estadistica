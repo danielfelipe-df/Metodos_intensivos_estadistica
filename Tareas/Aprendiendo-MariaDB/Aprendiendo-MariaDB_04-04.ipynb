{
 "cells": [
  {
   "cell_type": "markdown",
   "id": "finite-potato",
   "metadata": {},
   "source": [
    "# Part I. The software"
   ]
  },
  {
   "cell_type": "markdown",
   "id": "governing-grain",
   "metadata": {},
   "source": [
    "### Capítulo 3. The Basics and the MySQL Client"
   ]
  },
  {
   "cell_type": "code",
   "execution_count": null,
   "id": "widespread-there",
   "metadata": {
    "scrolled": true
   },
   "outputs": [],
   "source": [
    "-- Create database 'test' and show all the databases\n",
    "CREATE DATABASE test;\n",
    "SHOW DATABASES;"
   ]
  },
  {
   "cell_type": "code",
   "execution_count": null,
   "id": "intense-medline",
   "metadata": {},
   "outputs": [],
   "source": [
    "-- Create table 'books' in the database 'test'. It has the columns 'book_id', 'title' and 'status'.\n",
    "CREATE TABLE test.books(\n",
    "    book_id INT, -- Column 'book_id' is of type INT\n",
    "    title TEXT, -- Column 'title' is of type TEXT\n",
    "    status INT -- Column 'statu' is of type 'INT'\n",
    ");"
   ]
  },
  {
   "cell_type": "code",
   "execution_count": null,
   "id": "concrete-coral",
   "metadata": {},
   "outputs": [],
   "source": [
    "-- Show the tables of database 'test'\n",
    "SHOW TABLES FROM test;"
   ]
  },
  {
   "cell_type": "code",
   "execution_count": null,
   "id": "narrative-parts",
   "metadata": {},
   "outputs": [],
   "source": [
    "-- Specify the database ('test') that is going to be used in the next commands\n",
    "USE test;"
   ]
  },
  {
   "cell_type": "code",
   "execution_count": null,
   "id": "verbal-intelligence",
   "metadata": {},
   "outputs": [],
   "source": [
    "-- Now it is not necessary to use the 'From test' subcommand in the last one\n",
    "SHOW TABLES;"
   ]
  },
  {
   "cell_type": "code",
   "execution_count": null,
   "id": "matched-religious",
   "metadata": {},
   "outputs": [],
   "source": [
    "-- Show the description of each column of the table (books)\n",
    "DESCRIBE books;"
   ]
  },
  {
   "cell_type": "code",
   "execution_count": null,
   "id": "constitutional-subdivision",
   "metadata": {},
   "outputs": [],
   "source": [
    "-- Insert data in the table 'books'\n",
    "INSERT INTO books VALUES(100, 'Heart of Darkness', 0);\n",
    "INSERT INTO books VALUES(101, 'The Catcher of the Rye', 1);\n",
    "INSERT INTO books VALUES(102, 'My Antonia', 0);"
   ]
  },
  {
   "cell_type": "code",
   "execution_count": null,
   "id": "spectacular-blogger",
   "metadata": {},
   "outputs": [],
   "source": [
    "-- SELECT all columns and display them\n",
    "SELECT * FROM books;"
   ]
  },
  {
   "cell_type": "code",
   "execution_count": null,
   "id": "contained-tennis",
   "metadata": {},
   "outputs": [],
   "source": [
    "-- Filter the files by those values WHERE status = 1\n",
    "SELECT * FROM books\n",
    "WHERE status = 1;"
   ]
  },
  {
   "cell_type": "code",
   "execution_count": null,
   "id": "reliable-grocery",
   "metadata": {},
   "outputs": [],
   "source": [
    "-- The same than the last cell (change 1 by 0), but instead a semicolon is '\\G' that shows the results as a batch of lines for each record\n",
    "SELECT * FROM books\n",
    "WHERE status = 0 \\G"
   ]
  },
  {
   "cell_type": "code",
   "execution_count": null,
   "id": "fluid-plant",
   "metadata": {},
   "outputs": [],
   "source": [
    "-- UPDATE the data in the table\n",
    "UPDATE books SET status = 1 WHERE book_id = 102;\n",
    "\n",
    "-- SHOW the table modified\n",
    "SELECT * FROM books WHERE status = 1;"
   ]
  },
  {
   "cell_type": "code",
   "execution_count": null,
   "id": "geographic-parent",
   "metadata": {},
   "outputs": [],
   "source": [
    "-- UPDATE and SHOW data in other cell\n",
    "UPDATE books SET status = 0 WHERE book_id = 101;\n",
    "SELECT * FROM books WHERE status = 0;"
   ]
  },
  {
   "cell_type": "code",
   "execution_count": null,
   "id": "pursuant-baghdad",
   "metadata": {},
   "outputs": [],
   "source": [
    "-- UPDATE more than two items at same statement\n",
    "UPDATE books\n",
    "SET title = 'The Catcher in the Rye', status = 1\n",
    "WHERE book_id = 101;"
   ]
  },
  {
   "cell_type": "code",
   "execution_count": null,
   "id": "aware-couple",
   "metadata": {},
   "outputs": [],
   "source": [
    "-- CREATE other table and INSERT values\n",
    "CREATE TABLE status_names(\n",
    "    status_id INT,\n",
    "    status_name CHAR(8)\n",
    ");\n",
    "INSERT INTO status_names VALUES(0, 'Inactive'), (1, 'Active');"
   ]
  },
  {
   "cell_type": "code",
   "execution_count": null,
   "id": "ordinary-release",
   "metadata": {},
   "outputs": [],
   "source": [
    "-- SHOW the new table\n",
    "SELECT * FROM status_names;"
   ]
  },
  {
   "cell_type": "code",
   "execution_count": null,
   "id": "subjective-orientation",
   "metadata": {},
   "outputs": [],
   "source": [
    "-- JOIN both tables and show specific columns filter by specific files\n",
    "SELECT book_id, title, status_name\n",
    "FROM books JOIN status_names\n",
    "WHERE status = status_id;"
   ]
  },
  {
   "cell_type": "markdown",
   "id": "similar-break",
   "metadata": {},
   "source": [
    "---"
   ]
  },
  {
   "cell_type": "markdown",
   "id": "federal-surge",
   "metadata": {},
   "source": [
    "# Part II. Database Structure"
   ]
  },
  {
   "cell_type": "markdown",
   "id": "weird-action",
   "metadata": {},
   "source": [
    "### Capítulo 4. Creating Databases and Tables"
   ]
  },
  {
   "cell_type": "code",
   "execution_count": null,
   "id": "seven-spelling",
   "metadata": {},
   "outputs": [],
   "source": [
    "-- CREATE the database\n",
    "CREATE DATABASE rookery;"
   ]
  },
  {
   "cell_type": "code",
   "execution_count": null,
   "id": "electronic-thesis",
   "metadata": {},
   "outputs": [],
   "source": [
    "-- DROP (Delete) table\n",
    "DROP DATABASE rookery;\n",
    "\n",
    "-- CREATE again the database\n",
    "CREATE DATABASE rookery -- Database created\n",
    "CHARACTER SET latin1 -- Default characters used in database's table are 'Latin letters'\n",
    "COLLATE latin1_bin; -- Default method of sorting is based on binary 'Latin characters'"
   ]
  },
  {
   "cell_type": "code",
   "execution_count": null,
   "id": "knowing-defendant",
   "metadata": {},
   "outputs": [],
   "source": [
    "-- SHOW the database\n",
    "SHOW DATABASES;"
   ]
  },
  {
   "cell_type": "code",
   "execution_count": null,
   "id": "finite-market",
   "metadata": {},
   "outputs": [],
   "source": [
    "-- Set the database as default\n",
    "USE rockery;"
   ]
  },
  {
   "cell_type": "code",
   "execution_count": null,
   "id": "baking-portrait",
   "metadata": {},
   "outputs": [],
   "source": [
    "-- CREATE a table in the new database\n",
    "CREATE TABLE birds(\n",
    "    bird_id INT AUTO_INCREMENT PRIMARY KEY, -- PRIMARY KEY is the unique statement which define the file in the table and database\n",
    "    scientific_name VARCHAR(255) UNIQUE, -- UNIQUE means that there are not equal values in the column\n",
    "    common_name VARCHAR(50), \n",
    "    family_id INT,\n",
    "    description TEXT\n",
    ");"
   ]
  },
  {
   "cell_type": "code",
   "execution_count": null,
   "id": "technical-thompson",
   "metadata": {},
   "outputs": [],
   "source": [
    "-- Show the characteristics of the table\n",
    "DESCRIBE birds;"
   ]
  },
  {
   "cell_type": "code",
   "execution_count": null,
   "id": "sized-essay",
   "metadata": {},
   "outputs": [],
   "source": [
    "-- Insert various values in specific columns of the table\n",
    "INSERT INTO birds (scientific_name, common_name)\n",
    "VALUES ('Charadrius vociferus', 'Killdeer'),\n",
    "('Gavia immer', 'Great Northern Loon'),\n",
    "('Aix sponsa', 'Wood Duck'),\n",
    "('Chordeiles minor', 'Common Nighthawk'),\n",
    "('Sitta carolinensis', ' White-breasted Nuthatch'),\n",
    "('Apteryx mantelli', 'North Island Brown Kiwi');"
   ]
  },
  {
   "cell_type": "code",
   "execution_count": null,
   "id": "sexual-graphics",
   "metadata": {},
   "outputs": [],
   "source": [
    "-- Show all columns and values in table birds\n",
    "SELECT * FROM birds;"
   ]
  },
  {
   "cell_type": "code",
   "execution_count": null,
   "id": "elder-tobacco",
   "metadata": {},
   "outputs": [],
   "source": [
    "-- CREATE another database and a table in it\n",
    "CREATE DATABASE birdwatchers;\n",
    "CREATE TABLE birdwatchers.humans(\n",
    "    human_id INT AUTO_INCREMENT PRIMARY KEY, -- AUTO_INCREMENT does a default value in the column based in the last value\n",
    "    formal_title VARCHAR(25),\n",
    "    name_first VARCHAR(25),\n",
    "    name_last VARCHAR(25),\n",
    "    email_address VARCHAR(255)\n",
    ");"
   ]
  },
  {
   "cell_type": "code",
   "execution_count": null,
   "id": "worst-sheep",
   "metadata": {},
   "outputs": [],
   "source": [
    "-- Add values in the table \n",
    "INSERT INTO birdwatchers.humans (formal_title, name_first, name_last, email_address)\n",
    "VALUES('Mr.', 'Russell', 'Dyer', 'russell@mysqlresources.com'),\n",
    "('Mr.', 'Richard', 'Stringer', 'richard@mysqlresources.com'),\n",
    "('Ms.', 'Rusty', 'Osborne', 'rusty@mysqlresources.com'),\n",
    "('Ms.', 'Lexi', 'Hollar', 'alexandra@mysqlresources.com');"
   ]
  },
  {
   "cell_type": "code",
   "execution_count": null,
   "id": "accompanied-state",
   "metadata": {},
   "outputs": [],
   "source": [
    "-- The 'SHOW CREATE TABLE' let you know de description of the columns in table\n",
    "SHOW CREATE TABLE birds \\G"
   ]
  },
  {
   "cell_type": "code",
   "execution_count": null,
   "id": "vietnamese-match",
   "metadata": {},
   "outputs": [],
   "source": [
    "-- Do other table with extra information (family) related to the birds and can be equal depending on the birds\n",
    "CREATE TABLE bird_families (\n",
    "    family_id INT AUTO_INCREMENT PRIMARY KEY,\n",
    "    scientific_name VARCHAR(255) UNIQUE,\n",
    "    brief_description VARCHAR(255) \n",
    ");"
   ]
  },
  {
   "cell_type": "code",
   "execution_count": null,
   "id": "alleged-moral",
   "metadata": {},
   "outputs": [],
   "source": [
    "-- Create a table with an specific encoding, that is better than latin1\n",
    "CREATE TABLE bird_orders (\n",
    "    order_id INT AUTO_INCREMENT PRIMARY KEY,\n",
    "    scientific_name VARCHAR(255) UNIQUE,\n",
    "    brief_description VARCHAR(255),\n",
    "    order_image BLOB\n",
    ") DEFAULT CHARSET=utf8 COLLATE=utf8_general_ci; -- Do the default encoding as UTF-8. It is greater than latin1"
   ]
  },
  {
   "cell_type": "markdown",
   "id": "viral-nursing",
   "metadata": {},
   "source": [
    "---"
   ]
  },
  {
   "cell_type": "markdown",
   "id": "opponent-compromise",
   "metadata": {},
   "source": [
    "### Capítulo 5. Altering tables."
   ]
  },
  {
   "cell_type": "code",
   "execution_count": null,
   "id": "brilliant-threshold",
   "metadata": {},
   "outputs": [],
   "source": [
    "-- Change one of the default values or set one of the options. It is done with ALTER\n",
    "ALTER TABLE bird_families\n",
    "ADD COLUMN order_id INT;"
   ]
  },
  {
   "cell_type": "code",
   "execution_count": null,
   "id": "respective-advertiser",
   "metadata": {},
   "outputs": [],
   "source": [
    "-- To create a copy of a table we use the command LIKE\n",
    "CREATE TABLE test.birds_new LIKE birds;"
   ]
  },
  {
   "cell_type": "code",
   "execution_count": null,
   "id": "inappropriate-woman",
   "metadata": {},
   "outputs": [],
   "source": [
    "-- Set 'test' as the default database and show the description of birds_new table\n",
    "USE test;\n",
    "DESCRIBE birds_new;"
   ]
  },
  {
   "cell_type": "code",
   "execution_count": null,
   "id": "unnecessary-terrorist",
   "metadata": {},
   "outputs": [],
   "source": [
    "-- When we did the copy, we just copied the structure, not the data. We can do it with SELECT\n",
    "INSERT INTO birds_new\n",
    "SELECT * FROM rookery.birds;"
   ]
  },
  {
   "cell_type": "code",
   "execution_count": null,
   "id": "sexual-isaac",
   "metadata": {},
   "outputs": [],
   "source": [
    "-- The next method is to do the copy of data. The structure is not copy. There is missing AUTO_INCREMENT and PRIMARY_KEY\n",
    "CREATE TABLE birds_new_alternative\n",
    "SELECT * FROM rookery.birds;"
   ]
  },
  {
   "cell_type": "code",
   "execution_count": null,
   "id": "tender-executive",
   "metadata": {},
   "outputs": [],
   "source": [
    "-- Delete the last table\n",
    "DROP TABLE birds_new_alternative;"
   ]
  },
  {
   "cell_type": "code",
   "execution_count": null,
   "id": "positive-exhaust",
   "metadata": {},
   "outputs": [],
   "source": [
    "-- Add a new column to the table\n",
    "ALTER TABLE birds_new\n",
    "ADD COLUMN wing_id CHAR(2);"
   ]
  },
  {
   "cell_type": "code",
   "execution_count": null,
   "id": "quality-soviet",
   "metadata": {},
   "outputs": [],
   "source": [
    "-- Show the description of the table\n",
    "DESCRIBE birds_new;"
   ]
  },
  {
   "cell_type": "code",
   "execution_count": null,
   "id": "mediterranean-symbol",
   "metadata": {},
   "outputs": [],
   "source": [
    "-- Delete the column because is at the end of the table, but we need it in other place\n",
    "ALTER TABLE birds_new\n",
    "DROP COLUMN wing_id;"
   ]
  },
  {
   "cell_type": "code",
   "execution_count": null,
   "id": "revised-showcase",
   "metadata": {},
   "outputs": [],
   "source": [
    "-- Add the new column after family_id. If need to put it on the first column, change AFTER to FIRST\n",
    "ALTER TABLE birds_new\n",
    "ADD COLUMN wing_id CHAR(2) AFTER family_id;"
   ]
  },
  {
   "cell_type": "code",
   "execution_count": null,
   "id": "supreme-ability",
   "metadata": {},
   "outputs": [],
   "source": [
    "-- Add differente columns in the position needed. And change the width of a column\n",
    "ALTER TABLE birds_new\n",
    "ADD COLUMN body_id CHAR(2) AFTER wing_id,\n",
    "ADD COLUMN bill_id CHAR(2) AFTER body_id,\n",
    "ADD COLUMN endangered BIT DEFAULT b'1' AFTER bill_id, -- The BIT type is boolean (0 or 1)\n",
    "CHANGE COLUMN common_name common_name VARCHAR(255);"
   ]
  },
  {
   "cell_type": "code",
   "execution_count": null,
   "id": "elegant-catering",
   "metadata": {},
   "outputs": [],
   "source": [
    "-- Modify a column values of specific lines\n",
    "UPDATE birds_new SET endangered = 0\n",
    "WHERE bird_id IN(1,2,4,5);"
   ]
  },
  {
   "cell_type": "code",
   "execution_count": null,
   "id": "naval-statistics",
   "metadata": {},
   "outputs": [],
   "source": [
    "-- Display specific columns of the table filtered by an specific value in a column\n",
    "SELECT bird_id, scientific_name, common_name\n",
    "FROM birds_new\n",
    "WHERE endangered \\G -- It is equal to WHERE endangered = 1"
   ]
  },
  {
   "cell_type": "code",
   "execution_count": null,
   "id": "assumed-nowhere",
   "metadata": {},
   "outputs": [],
   "source": [
    "-- Display all the columns, but where endangered = 0\n",
    "SELECT * FROM birds_new\n",
    "WHERE NOT endangered \\G"
   ]
  },
  {
   "cell_type": "code",
   "execution_count": null,
   "id": "american-attitude",
   "metadata": {},
   "outputs": [],
   "source": [
    "-- Because are several degrees of endangered, so we can modify the type of values by ENUM via MODIFY COLUMN\n",
    "ALTER TABLE birds_new\n",
    "MODIFY COLUMN endangered\n",
    "ENUM('Extinct',\n",
    "    'Extinct in Wild',\n",
    "    'Threatened - Critically Endangered',\n",
    "    'Threatened - Endangered',\n",
    "    'Threatened - Vulnerable',\n",
    "    'Lower Risk - Conservation Dependent',\n",
    "    'Lower Risk - Near Threatened',\n",
    "    'Lower Risk - Least Concern')\n",
    "AFTER family_id;"
   ]
  },
  {
   "cell_type": "code",
   "execution_count": null,
   "id": "reliable-negotiation",
   "metadata": {},
   "outputs": [],
   "source": [
    "-- Show the description of the specific column\n",
    "SHOW COLUMNS FROM birds_new LIKE 'endangered' \\G"
   ]
  },
  {
   "cell_type": "code",
   "execution_count": null,
   "id": "exact-hazard",
   "metadata": {},
   "outputs": [],
   "source": [
    "-- Set all the values of the ENUM column of an specific value. If we know the order it is easy\n",
    "UPDATE birds_new\n",
    "SET endangered = 7;"
   ]
  },
  {
   "cell_type": "code",
   "execution_count": null,
   "id": "level-single",
   "metadata": {},
   "outputs": [],
   "source": [
    "-- USE other database and create tables\n",
    "USE birdwatchers;\n",
    "\n",
    "CREATE TABLE surveys(\n",
    "    survey_id INT AUTO_INCREMENT KEY,\n",
    "    survey_name VARCHAR(255)\n",
    ");\n",
    "\n",
    "CREATE TABLE survey_questions(\n",
    "    question_id INT AUTO_INCREMENT KEY,\n",
    "    survey_id INT,\n",
    "    question VARCHAR(255),\n",
    "    choices BLOB -- BLOB is a generic type, and we can use it to store a dynamic column\n",
    ");\n",
    "\n",
    "CREATE TABLE survey_answers(\n",
    "    answer_id INT AUTO_INCREMENT KEY,\n",
    "    human_id INT,\n",
    "    question_id INT,\n",
    "    date_answered DATETIME,\n",
    "    answer VARCHAR(255)\n",
    ");"
   ]
  },
  {
   "cell_type": "code",
   "execution_count": null,
   "id": "extended-establishment",
   "metadata": {},
   "outputs": [],
   "source": [
    "-- Put some data in the tables\n",
    "INSERT INTO surveys (survey_name)\n",
    "VALUES(\"Favorite Birding Location\");\n",
    "\n",
    "INSERT INTO survey_questions (survey_id, question, choices)\n",
    "VALUES(LAST_INSERT_ID(),\n",
    "    \"What's your favorite setting for bird-watching?\",\n",
    "    COLUMN_CREATE('1', 'forest', '2', 'shore', '3', 'backyard') -- This works to create an enumerate with specific key and value 1 -> forest, 2 -> shore, 3 -> backyard\n",
    ");\n",
    "\n",
    "INSERT INTO surveys (survey_name)\n",
    "VALUES(\"Preferred Birds\");\n",
    "\n",
    "INSERT INTO survey_questions (survey_id, question, choices)\n",
    "VALUES(LAST_INSERT_ID(),\n",
    "    \"Which type of birds do you like best?\",\n",
    "    COLUMN_CREATE('1', 'perching', '2', 'shore', '3', 'fowl', '4', 'rapture') \n",
    ");"
   ]
  },
  {
   "cell_type": "code",
   "execution_count": null,
   "id": "artistic-freight",
   "metadata": {},
   "outputs": [],
   "source": [
    "-- Show the data in an specific format\n",
    "SELECT COLUMN_GET(choices, 3 AS CHAR) -- COLUMN_GET select the column (first argument) the key to be selected (3) and the type to be expressed\n",
    "AS 'Location'\n",
    "FROM survey_questions\n",
    "WHERE survey_id = 1;"
   ]
  },
  {
   "cell_type": "code",
   "execution_count": null,
   "id": "informed-strip",
   "metadata": {},
   "outputs": [],
   "source": [
    "-- INSERT values into the table\n",
    "INSERT INTO survey_answers (human_id, question_id, date_answered, answer)\n",
    "VALUES (29, 1, NOW(), 2), -- NOW() is the DATETIME format for the now time\n",
    "(29, 2, NOW(), 2),\n",
    "(35, 1, NOW(), 1),\n",
    "(35, 2, NOW(), 1),\n",
    "(26, 1, NOW(), 2),\n",
    "(26, 2, NOW(), 1),\n",
    "(27, 1, NOW(), 2),\n",
    "(27, 2, NOW(), 4),\n",
    "(16, 1, NOW(), 3),\n",
    "(3, 1, NOW(), 1),\n",
    "(3, 2, NOW(), 1);"
   ]
  },
  {
   "cell_type": "code",
   "execution_count": null,
   "id": "reverse-sugar",
   "metadata": {},
   "outputs": [],
   "source": [
    "-- Count the votes for the first survey\n",
    "SELECT IFNULL(COLUMN_GET(choices, answer AS CHAR), 'total') AS 'Birding Site', COUNT(*) AS 'Votes'\n",
    "FROM survey_answers\n",
    "JOIN survey_questions USING(question_id)\n",
    "WHERE survey_id = 1 AND question_id = 1\n",
    "GROUP BY answer WITH ROLLUP;"
   ]
  },
  {
   "cell_type": "code",
   "execution_count": null,
   "id": "visible-mount",
   "metadata": {},
   "outputs": [],
   "source": [
    "-- CREATE a table for the conservation_stattus\n",
    "CREATE TABLE rookery.conservation_status(\n",
    "    status_id INT AUTO_INCREMENT PRIMARY KEY,\n",
    "    conservation_category CHAR(10),\n",
    "    conservation_state CHAR(25)\n",
    ");"
   ]
  },
  {
   "cell_type": "code",
   "execution_count": null,
   "id": "labeled-illness",
   "metadata": {},
   "outputs": [],
   "source": [
    "-- Add the values for the categories and states\n",
    "INSERT INTO rookery.conservation_status (conservation_category, conservation_state)\n",
    "VALUES('Extinct','Extinct'),\n",
    "('Extinct','Extinct in Wild'),\n",
    "('Threatened','Critically Endangered'),\n",
    "('Threatened','Endangered'),\n",
    "('Threatened','Vulnerable'),\n",
    "('Lower Risk','Conservation Dependent'),\n",
    "('Lower Risk','Near Threatened'),\n",
    "('Lower Risk','Least Concern');"
   ]
  },
  {
   "cell_type": "code",
   "execution_count": null,
   "id": "adjusted-globe",
   "metadata": {},
   "outputs": [],
   "source": [
    "-- SHOW the table\n",
    "SELECT * FROM rookery.conservation_status;"
   ]
  },
  {
   "cell_type": "code",
   "execution_count": null,
   "id": "running-legislature",
   "metadata": {},
   "outputs": [],
   "source": [
    "-- Alter the table and change to name to connect later to the new table created\n",
    "ALTER TABLE birds_new\n",
    "CHANGE COLUMN endangered conservation_status_id INT DEFAULT 8;"
   ]
  },
  {
   "cell_type": "code",
   "execution_count": null,
   "id": "static-salem",
   "metadata": {},
   "outputs": [],
   "source": [
    "-- Change the default value\n",
    "ALTER TABLE birds_new\n",
    "ALTER conservation_status_id SET DEFAULT 7;"
   ]
  },
  {
   "cell_type": "code",
   "execution_count": null,
   "id": "muslim-permission",
   "metadata": {},
   "outputs": [],
   "source": [
    "-- Delete the default value.\n",
    "ALTER TABLE birds_new\n",
    "ALTER conservation_status_id DROP DEFAULT;"
   ]
  },
  {
   "cell_type": "code",
   "execution_count": null,
   "id": "likely-election",
   "metadata": {},
   "outputs": [],
   "source": [
    "-- SHOW the column auto_increment by a filter\n",
    "SELECT auto_increment\n",
    "FROM information_schema.tables\n",
    "WHERE table_name = 'birds';"
   ]
  },
  {
   "cell_type": "code",
   "execution_count": null,
   "id": "gorgeous-terminal",
   "metadata": {},
   "outputs": [],
   "source": [
    "-- Return to the database rookery and modify the deafult value of the next add to 10 \n",
    "USE rookery\n",
    "ALTER TABLE birds\n",
    "AUTO_INCREMENT = 10;"
   ]
  },
  {
   "cell_type": "code",
   "execution_count": null,
   "id": "becoming-homework",
   "metadata": {},
   "outputs": [],
   "source": [
    "-- Create an empty column\n",
    "CREATE TABLE birds_new LIKE birds;"
   ]
  },
  {
   "cell_type": "code",
   "execution_count": null,
   "id": "strange-trinity",
   "metadata": {},
   "outputs": [],
   "source": [
    "-- See the description of each table, and show the copy is empty\n",
    "DESCRIBE birds;\n",
    "DESCRIBE birds_new;\n",
    "SELECT * FROM birds_new;"
   ]
  },
  {
   "cell_type": "code",
   "execution_count": null,
   "id": "governmental-release",
   "metadata": {},
   "outputs": [],
   "source": [
    "-- Show the description of a table\n",
    "SHOW CREATE TABLE birds \\G"
   ]
  },
  {
   "cell_type": "code",
   "execution_count": null,
   "id": "laughing-parent",
   "metadata": {},
   "outputs": [],
   "source": [
    "-- Modify the next value of the value will add\n",
    "ALTER TABLE birds_new\n",
    "AUTO_INCREMENT = 6;"
   ]
  },
  {
   "cell_type": "code",
   "execution_count": null,
   "id": "static-hotel",
   "metadata": {},
   "outputs": [],
   "source": [
    "-- Create the table as a copy of some columns of other tables\n",
    "CREATE TABLE birds_details\n",
    "SELECT bird_id, description\n",
    "FROM birds;"
   ]
  },
  {
   "cell_type": "code",
   "execution_count": null,
   "id": "persistent-easter",
   "metadata": {},
   "outputs": [],
   "source": [
    "-- Get the description\n",
    "DESCRIBE birds_details;"
   ]
  },
  {
   "cell_type": "code",
   "execution_count": null,
   "id": "cognitive-lincoln",
   "metadata": {},
   "outputs": [],
   "source": [
    "-- Delete a column\n",
    "ALTER TABLE birds\n",
    "DROP COLUMN description;"
   ]
  },
  {
   "cell_type": "code",
   "execution_count": null,
   "id": "corrected-whole",
   "metadata": {},
   "outputs": [],
   "source": [
    "-- Rename some columns\n",
    "RENAME TABLE rookery.birds TO rookery.birds_old,\n",
    "test.birds_new TO rookery.birds;"
   ]
  },
  {
   "cell_type": "code",
   "execution_count": null,
   "id": "effective-crazy",
   "metadata": {},
   "outputs": [],
   "source": [
    "-- Show the tables in all databases starting with 'birds'\n",
    "SHOW TABLES IN rookery LIKE 'birds%';"
   ]
  },
  {
   "cell_type": "markdown",
   "id": "spanish-clock",
   "metadata": {},
   "source": [
    "---"
   ]
  },
  {
   "cell_type": "markdown",
   "id": "three-auditor",
   "metadata": {},
   "source": [
    "# Part III. Basics of Handling Data"
   ]
  },
  {
   "cell_type": "markdown",
   "id": "constitutional-melbourne",
   "metadata": {},
   "source": [
    "### Capítulo 6. Inserting Data."
   ]
  },
  {
   "cell_type": "code",
   "execution_count": null,
   "id": "portuguese-promise",
   "metadata": {},
   "outputs": [],
   "source": []
  },
  {
   "cell_type": "code",
   "execution_count": null,
   "id": "generic-assembly",
   "metadata": {},
   "outputs": [],
   "source": []
  },
  {
   "cell_type": "code",
   "execution_count": null,
   "id": "fatal-husband",
   "metadata": {},
   "outputs": [],
   "source": []
  },
  {
   "cell_type": "code",
   "execution_count": null,
   "id": "partial-confirmation",
   "metadata": {},
   "outputs": [],
   "source": []
  },
  {
   "cell_type": "code",
   "execution_count": null,
   "id": "peripheral-despite",
   "metadata": {},
   "outputs": [],
   "source": []
  },
  {
   "cell_type": "code",
   "execution_count": null,
   "id": "urban-interaction",
   "metadata": {},
   "outputs": [],
   "source": []
  },
  {
   "cell_type": "code",
   "execution_count": null,
   "id": "silver-monkey",
   "metadata": {},
   "outputs": [],
   "source": []
  },
  {
   "cell_type": "code",
   "execution_count": null,
   "id": "bearing-crazy",
   "metadata": {},
   "outputs": [],
   "source": []
  },
  {
   "cell_type": "code",
   "execution_count": null,
   "id": "interested-cassette",
   "metadata": {},
   "outputs": [],
   "source": []
  },
  {
   "cell_type": "code",
   "execution_count": null,
   "id": "successful-dairy",
   "metadata": {},
   "outputs": [],
   "source": []
  },
  {
   "cell_type": "code",
   "execution_count": null,
   "id": "imposed-stable",
   "metadata": {},
   "outputs": [],
   "source": []
  },
  {
   "cell_type": "code",
   "execution_count": null,
   "id": "forced-newsletter",
   "metadata": {},
   "outputs": [],
   "source": []
  },
  {
   "cell_type": "code",
   "execution_count": null,
   "id": "banner-employer",
   "metadata": {},
   "outputs": [],
   "source": []
  },
  {
   "cell_type": "code",
   "execution_count": null,
   "id": "explicit-truth",
   "metadata": {},
   "outputs": [],
   "source": []
  },
  {
   "cell_type": "code",
   "execution_count": null,
   "id": "golden-extreme",
   "metadata": {},
   "outputs": [],
   "source": []
  },
  {
   "cell_type": "code",
   "execution_count": null,
   "id": "quarterly-schema",
   "metadata": {},
   "outputs": [],
   "source": []
  }
 ],
 "metadata": {
  "kernelspec": {
   "display_name": "MariaDB",
   "language": "SQL",
   "name": "mariadb_kernel"
  },
  "language_info": {
   "file_extension": ".sql",
   "mimetype": "text/plain",
   "name": "SQL"
  }
 },
 "nbformat": 4,
 "nbformat_minor": 5
}
